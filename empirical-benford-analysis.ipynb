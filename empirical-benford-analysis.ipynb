{
 "cells": [
  {
   "cell_type": "markdown",
   "metadata": {},
   "source": [
    "## Import libraries"
   ]
  },
  {
   "cell_type": "code",
   "execution_count": 1,
   "metadata": {},
   "outputs": [],
   "source": [
    "import numpy as np\n",
    "import pandas as pd\n",
    "import matplotlib.pyplot as plt\n",
    "import os as os\n",
    "import datetime as datetime\n",
    "import math as math"
   ]
  },
  {
   "cell_type": "markdown",
   "metadata": {},
   "source": [
    "## Import data"
   ]
  },
  {
   "cell_type": "code",
   "execution_count": 2,
   "metadata": {},
   "outputs": [],
   "source": [
    "df = pd.read_csv(os.path.join('data','bitstampUSD_data.csv'), usecols=('Timestamp', 'Weighted_Price'))"
   ]
  },
  {
   "cell_type": "code",
   "execution_count": 3,
   "metadata": {},
   "outputs": [
    {
     "data": {
      "text/html": [
       "<div>\n",
       "<style scoped>\n",
       "    .dataframe tbody tr th:only-of-type {\n",
       "        vertical-align: middle;\n",
       "    }\n",
       "\n",
       "    .dataframe tbody tr th {\n",
       "        vertical-align: top;\n",
       "    }\n",
       "\n",
       "    .dataframe thead th {\n",
       "        text-align: right;\n",
       "    }\n",
       "</style>\n",
       "<table border=\"1\" class=\"dataframe\">\n",
       "  <thead>\n",
       "    <tr style=\"text-align: right;\">\n",
       "      <th></th>\n",
       "      <th>Timestamp</th>\n",
       "      <th>Weighted_Price</th>\n",
       "    </tr>\n",
       "  </thead>\n",
       "  <tbody>\n",
       "    <tr>\n",
       "      <th>0</th>\n",
       "      <td>1325317920</td>\n",
       "      <td>4.39</td>\n",
       "    </tr>\n",
       "    <tr>\n",
       "      <th>1</th>\n",
       "      <td>1325317980</td>\n",
       "      <td>NaN</td>\n",
       "    </tr>\n",
       "    <tr>\n",
       "      <th>2</th>\n",
       "      <td>1325318040</td>\n",
       "      <td>NaN</td>\n",
       "    </tr>\n",
       "    <tr>\n",
       "      <th>3</th>\n",
       "      <td>1325318100</td>\n",
       "      <td>NaN</td>\n",
       "    </tr>\n",
       "    <tr>\n",
       "      <th>4</th>\n",
       "      <td>1325318160</td>\n",
       "      <td>NaN</td>\n",
       "    </tr>\n",
       "  </tbody>\n",
       "</table>\n",
       "</div>"
      ],
      "text/plain": [
       "    Timestamp  Weighted_Price\n",
       "0  1325317920            4.39\n",
       "1  1325317980             NaN\n",
       "2  1325318040             NaN\n",
       "3  1325318100             NaN\n",
       "4  1325318160             NaN"
      ]
     },
     "execution_count": 3,
     "metadata": {},
     "output_type": "execute_result"
    }
   ],
   "source": [
    "df.head()"
   ]
  },
  {
   "cell_type": "markdown",
   "metadata": {},
   "source": [
    "## Data wrangling"
   ]
  },
  {
   "cell_type": "code",
   "execution_count": 4,
   "metadata": {},
   "outputs": [],
   "source": [
    "good_data_starts = 1498888800"
   ]
  },
  {
   "cell_type": "code",
   "execution_count": 8,
   "metadata": {},
   "outputs": [],
   "source": [
    "df = df[df['Timestamp']>good_data_starts].reset_index()"
   ]
  },
  {
   "cell_type": "code",
   "execution_count": 9,
   "metadata": {},
   "outputs": [],
   "source": [
    "def posornan(x):\n",
    "    if x == 0:\n",
    "        return np.nan\n",
    "    else:\n",
    "        return x"
   ]
  },
  {
   "cell_type": "code",
   "execution_count": 10,
   "metadata": {},
   "outputs": [
    {
     "name": "stdout",
     "output_type": "stream",
     "text": [
      "sample # 0 of 1841400\n",
      "sample # 73656 of 1841400\n",
      "sample # 147312 of 1841400\n",
      "sample # 220968 of 1841400\n",
      "sample # 294624 of 1841400\n",
      "sample # 368280 of 1841400\n",
      "sample # 441936 of 1841400\n",
      "sample # 515592 of 1841400\n",
      "sample # 589248 of 1841400\n",
      "sample # 662904 of 1841400\n",
      "sample # 736560 of 1841400\n",
      "sample # 810216 of 1841400\n",
      "sample # 883872 of 1841400\n",
      "sample # 957528 of 1841400\n",
      "sample # 1031184 of 1841400\n",
      "sample # 1104840 of 1841400\n",
      "sample # 1178496 of 1841400\n",
      "sample # 1252152 of 1841400\n",
      "sample # 1325808 of 1841400\n",
      "sample # 1399464 of 1841400\n",
      "sample # 1473120 of 1841400\n",
      "sample # 1546776 of 1841400\n",
      "sample # 1620432 of 1841400\n",
      "sample # 1694088 of 1841400\n",
      "sample # 1767744 of 1841400\n"
     ]
    }
   ],
   "source": [
    "num_of_samples = len(df) # 1000000\n",
    "q_verbose = num_of_samples/25\n",
    "\n",
    "# init\n",
    "naninds = list()\n",
    "nantimes = list()\n",
    "nanhtimes = list()\n",
    "nonnaninds = list()\n",
    "nonnantimes = list()\n",
    "nonnanhtimes = list()\n",
    "nonnanprices = list()\n",
    "dig1 = list()\n",
    "dig12 = list()\n",
    "dig2 = list()\n",
    "dig3 = list()\n",
    "dig4 = list()\n",
    "dig5 = list()\n",
    "dig6 = list()\n",
    "\n",
    "subsample = np.linspace(1, len(df), num_of_samples)\n",
    "numsample = len(subsample)\n",
    "\n",
    "for x in range(numsample):\n",
    "    i = int(math.floor(subsample[x])-1)\n",
    "    \n",
    "    if q_verbose > 0:\n",
    "        if x % q_verbose == 0:\n",
    "            print('sample # ' + str(x) + ' of ' + str(numsample))\n",
    "            \n",
    "    this_Timestamp = df['Timestamp'][i]\n",
    "    this_hTimestamp = datetime.datetime.fromtimestamp(this_Timestamp)\n",
    "    this_price = df['Weighted_Price'][i]\n",
    "    is_nan = np.isnan(this_price)\n",
    "    \n",
    "    if is_nan:\n",
    "        naninds.append(i)\n",
    "        nantimes.append(this_Timestamp)\n",
    "        nanhtimes.append(this_hTimestamp)\n",
    "    else:\n",
    "        nonnaninds.append(i)\n",
    "        nonnantimes.append(this_Timestamp)\n",
    "        nonnanhtimes.append(this_hTimestamp)        \n",
    "        dig1.append(int(posornan(str(this_price*100)[0:1])))\n",
    "        dig12.append(int(posornan(str(this_price*100)[0:2])))\n",
    "        dig2.append(int(posornan(str(this_price*10000000000)[1:2])))\n",
    "        dig3.append(int(posornan(str(this_price*10000000000)[2:3])))\n",
    "        dig4.append(int(posornan(str(this_price*10000000000)[3:4])))\n",
    "        dig5.append(int(posornan(str(this_price*10000000000)[4:5])))\n",
    "        dig6.append(int(posornan(str(this_price*10000000000)[5:6])))\n",
    "        nonnanprices.append(this_price)\n",
    "\n",
    "dfnan = pd.DataFrame()\n",
    "dfnan['inds'] = naninds\n",
    "dfnan['times'] = nantimes\n",
    "dfnan['htimes'] = nanhtimes\n",
    "\n",
    "dfx = pd.DataFrame()\n",
    "dfx['inds'] = nonnaninds\n",
    "dfx['times'] = nonnantimes\n",
    "dfx['htimes'] = nonnanhtimes\n",
    "dfx['prices'] = nonnanprices\n",
    "dfx['dig1'] = dig1\n",
    "dfx['dig2'] = dig2\n",
    "dfx['dig12'] = dig12\n",
    "dfx['dig3'] = dig3\n",
    "dfx['dig4'] = dig4\n",
    "dfx['dig5'] = dig5\n",
    "dfx['dig6'] = dig6"
   ]
  },
  {
   "cell_type": "code",
   "execution_count": 11,
   "metadata": {},
   "outputs": [
    {
     "name": "stdout",
     "output_type": "stream",
     "text": [
      "1789999\n"
     ]
    },
    {
     "data": {
      "text/html": [
       "<div>\n",
       "<style scoped>\n",
       "    .dataframe tbody tr th:only-of-type {\n",
       "        vertical-align: middle;\n",
       "    }\n",
       "\n",
       "    .dataframe tbody tr th {\n",
       "        vertical-align: top;\n",
       "    }\n",
       "\n",
       "    .dataframe thead th {\n",
       "        text-align: right;\n",
       "    }\n",
       "</style>\n",
       "<table border=\"1\" class=\"dataframe\">\n",
       "  <thead>\n",
       "    <tr style=\"text-align: right;\">\n",
       "      <th></th>\n",
       "      <th>inds</th>\n",
       "      <th>times</th>\n",
       "      <th>htimes</th>\n",
       "      <th>prices</th>\n",
       "      <th>dig1</th>\n",
       "      <th>dig2</th>\n",
       "      <th>dig12</th>\n",
       "      <th>dig3</th>\n",
       "      <th>dig4</th>\n",
       "      <th>dig5</th>\n",
       "      <th>dig6</th>\n",
       "    </tr>\n",
       "  </thead>\n",
       "  <tbody>\n",
       "    <tr>\n",
       "      <th>0</th>\n",
       "      <td>1</td>\n",
       "      <td>1498888920</td>\n",
       "      <td>2017-07-01 00:02:00</td>\n",
       "      <td>2468.830000</td>\n",
       "      <td>2</td>\n",
       "      <td>4</td>\n",
       "      <td>24</td>\n",
       "      <td>6</td>\n",
       "      <td>8</td>\n",
       "      <td>8</td>\n",
       "      <td>3</td>\n",
       "    </tr>\n",
       "    <tr>\n",
       "      <th>1</th>\n",
       "      <td>2</td>\n",
       "      <td>1498888980</td>\n",
       "      <td>2017-07-01 00:03:00</td>\n",
       "      <td>2474.003084</td>\n",
       "      <td>2</td>\n",
       "      <td>4</td>\n",
       "      <td>24</td>\n",
       "      <td>7</td>\n",
       "      <td>4</td>\n",
       "      <td>0</td>\n",
       "      <td>0</td>\n",
       "    </tr>\n",
       "    <tr>\n",
       "      <th>2</th>\n",
       "      <td>3</td>\n",
       "      <td>1498889040</td>\n",
       "      <td>2017-07-01 00:04:00</td>\n",
       "      <td>2472.990000</td>\n",
       "      <td>2</td>\n",
       "      <td>4</td>\n",
       "      <td>24</td>\n",
       "      <td>7</td>\n",
       "      <td>2</td>\n",
       "      <td>9</td>\n",
       "      <td>8</td>\n",
       "    </tr>\n",
       "    <tr>\n",
       "      <th>3</th>\n",
       "      <td>4</td>\n",
       "      <td>1498889100</td>\n",
       "      <td>2017-07-01 00:05:00</td>\n",
       "      <td>2471.431653</td>\n",
       "      <td>2</td>\n",
       "      <td>4</td>\n",
       "      <td>24</td>\n",
       "      <td>7</td>\n",
       "      <td>1</td>\n",
       "      <td>4</td>\n",
       "      <td>3</td>\n",
       "    </tr>\n",
       "    <tr>\n",
       "      <th>4</th>\n",
       "      <td>5</td>\n",
       "      <td>1498889160</td>\n",
       "      <td>2017-07-01 00:06:00</td>\n",
       "      <td>2472.680559</td>\n",
       "      <td>2</td>\n",
       "      <td>4</td>\n",
       "      <td>24</td>\n",
       "      <td>7</td>\n",
       "      <td>2</td>\n",
       "      <td>6</td>\n",
       "      <td>8</td>\n",
       "    </tr>\n",
       "  </tbody>\n",
       "</table>\n",
       "</div>"
      ],
      "text/plain": [
       "   inds       times              htimes       prices  dig1  dig2  dig12  dig3  \\\n",
       "0     1  1498888920 2017-07-01 00:02:00  2468.830000     2     4     24     6   \n",
       "1     2  1498888980 2017-07-01 00:03:00  2474.003084     2     4     24     7   \n",
       "2     3  1498889040 2017-07-01 00:04:00  2472.990000     2     4     24     7   \n",
       "3     4  1498889100 2017-07-01 00:05:00  2471.431653     2     4     24     7   \n",
       "4     5  1498889160 2017-07-01 00:06:00  2472.680559     2     4     24     7   \n",
       "\n",
       "   dig4  dig5  dig6  \n",
       "0     8     8     3  \n",
       "1     4     0     0  \n",
       "2     2     9     8  \n",
       "3     1     4     3  \n",
       "4     2     6     8  "
      ]
     },
     "execution_count": 11,
     "metadata": {},
     "output_type": "execute_result"
    }
   ],
   "source": [
    "print(len(dfx))\n",
    "dfx.head()"
   ]
  },
  {
   "cell_type": "code",
   "execution_count": 12,
   "metadata": {},
   "outputs": [
    {
     "name": "stdout",
     "output_type": "stream",
     "text": [
      "1789999\n"
     ]
    },
    {
     "data": {
      "text/html": [
       "<div>\n",
       "<style scoped>\n",
       "    .dataframe tbody tr th:only-of-type {\n",
       "        vertical-align: middle;\n",
       "    }\n",
       "\n",
       "    .dataframe tbody tr th {\n",
       "        vertical-align: top;\n",
       "    }\n",
       "\n",
       "    .dataframe thead th {\n",
       "        text-align: right;\n",
       "    }\n",
       "</style>\n",
       "<table border=\"1\" class=\"dataframe\">\n",
       "  <thead>\n",
       "    <tr style=\"text-align: right;\">\n",
       "      <th></th>\n",
       "      <th>inds</th>\n",
       "      <th>times</th>\n",
       "      <th>htimes</th>\n",
       "      <th>prices</th>\n",
       "      <th>dig1</th>\n",
       "      <th>dig2</th>\n",
       "      <th>dig12</th>\n",
       "      <th>dig3</th>\n",
       "      <th>dig4</th>\n",
       "      <th>dig5</th>\n",
       "      <th>dig6</th>\n",
       "    </tr>\n",
       "  </thead>\n",
       "  <tbody>\n",
       "    <tr>\n",
       "      <th>1789994</th>\n",
       "      <td>1841395</td>\n",
       "      <td>1609372560</td>\n",
       "      <td>2020-12-30 16:56:00</td>\n",
       "      <td>28806.429798</td>\n",
       "      <td>2</td>\n",
       "      <td>8</td>\n",
       "      <td>28</td>\n",
       "      <td>8</td>\n",
       "      <td>0</td>\n",
       "      <td>6</td>\n",
       "      <td>4</td>\n",
       "    </tr>\n",
       "    <tr>\n",
       "      <th>1789995</th>\n",
       "      <td>1841396</td>\n",
       "      <td>1609372620</td>\n",
       "      <td>2020-12-30 16:57:00</td>\n",
       "      <td>28846.441863</td>\n",
       "      <td>2</td>\n",
       "      <td>8</td>\n",
       "      <td>28</td>\n",
       "      <td>8</td>\n",
       "      <td>4</td>\n",
       "      <td>6</td>\n",
       "      <td>4</td>\n",
       "    </tr>\n",
       "    <tr>\n",
       "      <th>1789996</th>\n",
       "      <td>1841397</td>\n",
       "      <td>1609372680</td>\n",
       "      <td>2020-12-30 16:58:00</td>\n",
       "      <td>28879.056266</td>\n",
       "      <td>2</td>\n",
       "      <td>8</td>\n",
       "      <td>28</td>\n",
       "      <td>8</td>\n",
       "      <td>7</td>\n",
       "      <td>9</td>\n",
       "      <td>0</td>\n",
       "    </tr>\n",
       "    <tr>\n",
       "      <th>1789997</th>\n",
       "      <td>1841398</td>\n",
       "      <td>1609372740</td>\n",
       "      <td>2020-12-30 16:59:00</td>\n",
       "      <td>28893.695831</td>\n",
       "      <td>2</td>\n",
       "      <td>8</td>\n",
       "      <td>28</td>\n",
       "      <td>8</td>\n",
       "      <td>9</td>\n",
       "      <td>3</td>\n",
       "      <td>6</td>\n",
       "    </tr>\n",
       "    <tr>\n",
       "      <th>1789998</th>\n",
       "      <td>1841399</td>\n",
       "      <td>1609372800</td>\n",
       "      <td>2020-12-30 17:00:00</td>\n",
       "      <td>28909.166061</td>\n",
       "      <td>2</td>\n",
       "      <td>8</td>\n",
       "      <td>28</td>\n",
       "      <td>9</td>\n",
       "      <td>0</td>\n",
       "      <td>9</td>\n",
       "      <td>1</td>\n",
       "    </tr>\n",
       "  </tbody>\n",
       "</table>\n",
       "</div>"
      ],
      "text/plain": [
       "            inds       times              htimes        prices  dig1  dig2  \\\n",
       "1789994  1841395  1609372560 2020-12-30 16:56:00  28806.429798     2     8   \n",
       "1789995  1841396  1609372620 2020-12-30 16:57:00  28846.441863     2     8   \n",
       "1789996  1841397  1609372680 2020-12-30 16:58:00  28879.056266     2     8   \n",
       "1789997  1841398  1609372740 2020-12-30 16:59:00  28893.695831     2     8   \n",
       "1789998  1841399  1609372800 2020-12-30 17:00:00  28909.166061     2     8   \n",
       "\n",
       "         dig12  dig3  dig4  dig5  dig6  \n",
       "1789994     28     8     0     6     4  \n",
       "1789995     28     8     4     6     4  \n",
       "1789996     28     8     7     9     0  \n",
       "1789997     28     8     9     3     6  \n",
       "1789998     28     9     0     9     1  "
      ]
     },
     "execution_count": 12,
     "metadata": {},
     "output_type": "execute_result"
    }
   ],
   "source": [
    "print(len(dfx))\n",
    "dfx.tail()"
   ]
  },
  {
   "cell_type": "code",
   "execution_count": 13,
   "metadata": {},
   "outputs": [
    {
     "name": "stdout",
     "output_type": "stream",
     "text": [
      "51401\n"
     ]
    },
    {
     "data": {
      "text/html": [
       "<div>\n",
       "<style scoped>\n",
       "    .dataframe tbody tr th:only-of-type {\n",
       "        vertical-align: middle;\n",
       "    }\n",
       "\n",
       "    .dataframe tbody tr th {\n",
       "        vertical-align: top;\n",
       "    }\n",
       "\n",
       "    .dataframe thead th {\n",
       "        text-align: right;\n",
       "    }\n",
       "</style>\n",
       "<table border=\"1\" class=\"dataframe\">\n",
       "  <thead>\n",
       "    <tr style=\"text-align: right;\">\n",
       "      <th></th>\n",
       "      <th>inds</th>\n",
       "      <th>times</th>\n",
       "      <th>htimes</th>\n",
       "    </tr>\n",
       "  </thead>\n",
       "  <tbody>\n",
       "    <tr>\n",
       "      <th>0</th>\n",
       "      <td>0</td>\n",
       "      <td>1498888860</td>\n",
       "      <td>2017-07-01 00:01:00</td>\n",
       "    </tr>\n",
       "    <tr>\n",
       "      <th>1</th>\n",
       "      <td>15</td>\n",
       "      <td>1498889760</td>\n",
       "      <td>2017-07-01 00:16:00</td>\n",
       "    </tr>\n",
       "    <tr>\n",
       "      <th>2</th>\n",
       "      <td>17</td>\n",
       "      <td>1498889880</td>\n",
       "      <td>2017-07-01 00:18:00</td>\n",
       "    </tr>\n",
       "    <tr>\n",
       "      <th>3</th>\n",
       "      <td>24</td>\n",
       "      <td>1498890300</td>\n",
       "      <td>2017-07-01 00:25:00</td>\n",
       "    </tr>\n",
       "    <tr>\n",
       "      <th>4</th>\n",
       "      <td>27</td>\n",
       "      <td>1498890480</td>\n",
       "      <td>2017-07-01 00:28:00</td>\n",
       "    </tr>\n",
       "  </tbody>\n",
       "</table>\n",
       "</div>"
      ],
      "text/plain": [
       "   inds       times              htimes\n",
       "0     0  1498888860 2017-07-01 00:01:00\n",
       "1    15  1498889760 2017-07-01 00:16:00\n",
       "2    17  1498889880 2017-07-01 00:18:00\n",
       "3    24  1498890300 2017-07-01 00:25:00\n",
       "4    27  1498890480 2017-07-01 00:28:00"
      ]
     },
     "execution_count": 13,
     "metadata": {},
     "output_type": "execute_result"
    }
   ],
   "source": [
    "print(len(dfnan))\n",
    "dfnan.head()"
   ]
  },
  {
   "cell_type": "code",
   "execution_count": 14,
   "metadata": {},
   "outputs": [],
   "source": [
    "dfx['dig4'] = dig4"
   ]
  },
  {
   "cell_type": "markdown",
   "metadata": {},
   "source": [
    "## Where are the NaNs? "
   ]
  },
  {
   "cell_type": "code",
   "execution_count": 15,
   "metadata": {},
   "outputs": [
    {
     "data": {
      "image/png": "[encoded data removed]",
      "text/plain": [
       "<Figure size 936x504 with 1 Axes>"
      ]
     },
     "metadata": {},
     "output_type": "display_data"
    }
   ],
   "source": [
    "f = plt.figure(figsize=(13,7), facecolor='w')\n",
    "tr_nan = plt.hist(dfnan['htimes'], alpha=0.5)\n",
    "tr_nonnan = plt.hist(dfx['htimes'], alpha=0.5)\n",
    "plt.legend(('nan data', 'data available'));"
   ]
  },
  {
   "cell_type": "markdown",
   "metadata": {},
   "source": [
    "Unexpectedly lots of NaNs thorugh 2017. I'm going to make a (possibly unsound) assumption that the availability of data is statistically independent of the first digits (and vice versa)"
   ]
  },
  {
   "cell_type": "code",
   "execution_count": 16,
   "metadata": {},
   "outputs": [],
   "source": [
    "good_data_starts = 1498888800"
   ]
  },
  {
   "cell_type": "code",
   "execution_count": 17,
   "metadata": {},
   "outputs": [
    {
     "data": {
      "text/html": [
       "<div>\n",
       "<style scoped>\n",
       "    .dataframe tbody tr th:only-of-type {\n",
       "        vertical-align: middle;\n",
       "    }\n",
       "\n",
       "    .dataframe tbody tr th {\n",
       "        vertical-align: top;\n",
       "    }\n",
       "\n",
       "    .dataframe thead th {\n",
       "        text-align: right;\n",
       "    }\n",
       "</style>\n",
       "<table border=\"1\" class=\"dataframe\">\n",
       "  <thead>\n",
       "    <tr style=\"text-align: right;\">\n",
       "      <th></th>\n",
       "      <th>inds</th>\n",
       "      <th>times</th>\n",
       "      <th>htimes</th>\n",
       "      <th>prices</th>\n",
       "      <th>dig1</th>\n",
       "      <th>dig2</th>\n",
       "      <th>dig12</th>\n",
       "      <th>dig3</th>\n",
       "      <th>dig4</th>\n",
       "      <th>dig5</th>\n",
       "      <th>dig6</th>\n",
       "    </tr>\n",
       "  </thead>\n",
       "  <tbody>\n",
       "    <tr>\n",
       "      <th>0</th>\n",
       "      <td>1</td>\n",
       "      <td>1498888920</td>\n",
       "      <td>2017-07-01 00:02:00</td>\n",
       "      <td>2468.830000</td>\n",
       "      <td>2</td>\n",
       "      <td>4</td>\n",
       "      <td>24</td>\n",
       "      <td>6</td>\n",
       "      <td>8</td>\n",
       "      <td>8</td>\n",
       "      <td>3</td>\n",
       "    </tr>\n",
       "    <tr>\n",
       "      <th>1</th>\n",
       "      <td>2</td>\n",
       "      <td>1498888980</td>\n",
       "      <td>2017-07-01 00:03:00</td>\n",
       "      <td>2474.003084</td>\n",
       "      <td>2</td>\n",
       "      <td>4</td>\n",
       "      <td>24</td>\n",
       "      <td>7</td>\n",
       "      <td>4</td>\n",
       "      <td>0</td>\n",
       "      <td>0</td>\n",
       "    </tr>\n",
       "    <tr>\n",
       "      <th>2</th>\n",
       "      <td>3</td>\n",
       "      <td>1498889040</td>\n",
       "      <td>2017-07-01 00:04:00</td>\n",
       "      <td>2472.990000</td>\n",
       "      <td>2</td>\n",
       "      <td>4</td>\n",
       "      <td>24</td>\n",
       "      <td>7</td>\n",
       "      <td>2</td>\n",
       "      <td>9</td>\n",
       "      <td>8</td>\n",
       "    </tr>\n",
       "    <tr>\n",
       "      <th>3</th>\n",
       "      <td>4</td>\n",
       "      <td>1498889100</td>\n",
       "      <td>2017-07-01 00:05:00</td>\n",
       "      <td>2471.431653</td>\n",
       "      <td>2</td>\n",
       "      <td>4</td>\n",
       "      <td>24</td>\n",
       "      <td>7</td>\n",
       "      <td>1</td>\n",
       "      <td>4</td>\n",
       "      <td>3</td>\n",
       "    </tr>\n",
       "    <tr>\n",
       "      <th>4</th>\n",
       "      <td>5</td>\n",
       "      <td>1498889160</td>\n",
       "      <td>2017-07-01 00:06:00</td>\n",
       "      <td>2472.680559</td>\n",
       "      <td>2</td>\n",
       "      <td>4</td>\n",
       "      <td>24</td>\n",
       "      <td>7</td>\n",
       "      <td>2</td>\n",
       "      <td>6</td>\n",
       "      <td>8</td>\n",
       "    </tr>\n",
       "    <tr>\n",
       "      <th>...</th>\n",
       "      <td>...</td>\n",
       "      <td>...</td>\n",
       "      <td>...</td>\n",
       "      <td>...</td>\n",
       "      <td>...</td>\n",
       "      <td>...</td>\n",
       "      <td>...</td>\n",
       "      <td>...</td>\n",
       "      <td>...</td>\n",
       "      <td>...</td>\n",
       "      <td>...</td>\n",
       "    </tr>\n",
       "    <tr>\n",
       "      <th>1789994</th>\n",
       "      <td>1841395</td>\n",
       "      <td>1609372560</td>\n",
       "      <td>2020-12-30 16:56:00</td>\n",
       "      <td>28806.429798</td>\n",
       "      <td>2</td>\n",
       "      <td>8</td>\n",
       "      <td>28</td>\n",
       "      <td>8</td>\n",
       "      <td>0</td>\n",
       "      <td>6</td>\n",
       "      <td>4</td>\n",
       "    </tr>\n",
       "    <tr>\n",
       "      <th>1789995</th>\n",
       "      <td>1841396</td>\n",
       "      <td>1609372620</td>\n",
       "      <td>2020-12-30 16:57:00</td>\n",
       "      <td>28846.441863</td>\n",
       "      <td>2</td>\n",
       "      <td>8</td>\n",
       "      <td>28</td>\n",
       "      <td>8</td>\n",
       "      <td>4</td>\n",
       "      <td>6</td>\n",
       "      <td>4</td>\n",
       "    </tr>\n",
       "    <tr>\n",
       "      <th>1789996</th>\n",
       "      <td>1841397</td>\n",
       "      <td>1609372680</td>\n",
       "      <td>2020-12-30 16:58:00</td>\n",
       "      <td>28879.056266</td>\n",
       "      <td>2</td>\n",
       "      <td>8</td>\n",
       "      <td>28</td>\n",
       "      <td>8</td>\n",
       "      <td>7</td>\n",
       "      <td>9</td>\n",
       "      <td>0</td>\n",
       "    </tr>\n",
       "    <tr>\n",
       "      <th>1789997</th>\n",
       "      <td>1841398</td>\n",
       "      <td>1609372740</td>\n",
       "      <td>2020-12-30 16:59:00</td>\n",
       "      <td>28893.695831</td>\n",
       "      <td>2</td>\n",
       "      <td>8</td>\n",
       "      <td>28</td>\n",
       "      <td>8</td>\n",
       "      <td>9</td>\n",
       "      <td>3</td>\n",
       "      <td>6</td>\n",
       "    </tr>\n",
       "    <tr>\n",
       "      <th>1789998</th>\n",
       "      <td>1841399</td>\n",
       "      <td>1609372800</td>\n",
       "      <td>2020-12-30 17:00:00</td>\n",
       "      <td>28909.166061</td>\n",
       "      <td>2</td>\n",
       "      <td>8</td>\n",
       "      <td>28</td>\n",
       "      <td>9</td>\n",
       "      <td>0</td>\n",
       "      <td>9</td>\n",
       "      <td>1</td>\n",
       "    </tr>\n",
       "  </tbody>\n",
       "</table>\n",
       "<p>1789999 rows × 11 columns</p>\n",
       "</div>"
      ],
      "text/plain": [
       "            inds       times              htimes        prices  dig1  dig2  \\\n",
       "0              1  1498888920 2017-07-01 00:02:00   2468.830000     2     4   \n",
       "1              2  1498888980 2017-07-01 00:03:00   2474.003084     2     4   \n",
       "2              3  1498889040 2017-07-01 00:04:00   2472.990000     2     4   \n",
       "3              4  1498889100 2017-07-01 00:05:00   2471.431653     2     4   \n",
       "4              5  1498889160 2017-07-01 00:06:00   2472.680559     2     4   \n",
       "...          ...         ...                 ...           ...   ...   ...   \n",
       "1789994  1841395  1609372560 2020-12-30 16:56:00  28806.429798     2     8   \n",
       "1789995  1841396  1609372620 2020-12-30 16:57:00  28846.441863     2     8   \n",
       "1789996  1841397  1609372680 2020-12-30 16:58:00  28879.056266     2     8   \n",
       "1789997  1841398  1609372740 2020-12-30 16:59:00  28893.695831     2     8   \n",
       "1789998  1841399  1609372800 2020-12-30 17:00:00  28909.166061     2     8   \n",
       "\n",
       "         dig12  dig3  dig4  dig5  dig6  \n",
       "0           24     6     8     8     3  \n",
       "1           24     7     4     0     0  \n",
       "2           24     7     2     9     8  \n",
       "3           24     7     1     4     3  \n",
       "4           24     7     2     6     8  \n",
       "...        ...   ...   ...   ...   ...  \n",
       "1789994     28     8     0     6     4  \n",
       "1789995     28     8     4     6     4  \n",
       "1789996     28     8     7     9     0  \n",
       "1789997     28     8     9     3     6  \n",
       "1789998     28     9     0     9     1  \n",
       "\n",
       "[1789999 rows x 11 columns]"
      ]
     },
     "execution_count": 17,
     "metadata": {},
     "output_type": "execute_result"
    }
   ],
   "source": [
    "dfx[dfx['times']> good_data_starts]"
   ]
  },
  {
   "cell_type": "markdown",
   "metadata": {},
   "source": [
    "## Glance at the trace"
   ]
  },
  {
   "cell_type": "code",
   "execution_count": 18,
   "metadata": {},
   "outputs": [],
   "source": [
    "## Glance at the trace"
   ]
  },
  {
   "cell_type": "code",
   "execution_count": 19,
   "metadata": {},
   "outputs": [
    {
     "data": {
      "image/png": "[encoded data removed]",
      "text/plain": [
       "<Figure size 936x504 with 1 Axes>"
      ]
     },
     "metadata": {},
     "output_type": "display_data"
    },
    {
     "data": {
      "image/png": "[encoded data removed]",
      "text/plain": [
       "<Figure size 936x504 with 1 Axes>"
      ]
     },
     "metadata": {},
     "output_type": "display_data"
    }
   ],
   "source": [
    "f = plt.figure(figsize=(13,7), facecolor='w')\n",
    "plt.scatter(dfx['times'], dfx['prices'])\n",
    "plt.xlabel('time')\n",
    "plt.ylabel('price')\n",
    "plt.title('')\n",
    "plt.grid('on')\n",
    "plt.yscale('linear')\n",
    "plt.title('BTC price in USD, linear scale')\n",
    "\n",
    "f = plt.figure(figsize=(13,7), facecolor='w')\n",
    "plt.scatter(dfx['times'], dfx['prices'])\n",
    "plt.xlabel('time')\n",
    "plt.ylabel('price')\n",
    "plt.title('')\n",
    "plt.grid('on')\n",
    "plt.yscale('log')\n",
    "plt.title('BTC price in USD, log scale');"
   ]
  },
  {
   "cell_type": "markdown",
   "metadata": {},
   "source": [
    "## What is the digit distribution?\n",
    "Suppose bitcoin's price was a random, then over multiple orders of magnitude the distribution of each digit should be uniform. In other words, the price is just as likely to be something that starts with a \"7\" as "
   ]
  },
  {
   "cell_type": "markdown",
   "metadata": {},
   "source": [
    "### Leading digit"
   ]
  },
  {
   "cell_type": "code",
   "execution_count": 20,
   "metadata": {},
   "outputs": [
    {
     "name": "stdout",
     "output_type": "stream",
     "text": [
      "Leading digit: \"1\" has 434840 instances ... (and 263640 as 2nd digit)\n",
      "Leading digit: \"2\" has 66768 instances ... (and 172452 as 2nd digit)\n",
      "Leading digit: \"3\" has 179865 instances ... (and 203248 as 2nd digit)\n",
      "Leading digit: \"4\" has 98187 instances ... (and 158057 as 2nd digit)\n",
      "Leading digit: \"5\" has 91606 instances ... (and 166579 as 2nd digit)\n",
      "Leading digit: \"6\" has 243683 instances ... (and 147627 as 2nd digit)\n",
      "Leading digit: \"7\" has 217913 instances ... (and 149622 as 2nd digit)\n",
      "Leading digit: \"8\" has 214152 instances ... (and 139311 as 2nd digit)\n",
      "Leading digit: \"9\" has 242985 instances ... (and 128614 as 2nd digit)\n"
     ]
    }
   ],
   "source": [
    "bins = range(1,11)\n",
    "\n",
    "digs = list()\n",
    "counts1 = list()\n",
    "counts2 = list()\n",
    "\n",
    "for bi in range(1,len(bins)):\n",
    "    digs.append(bi)\n",
    "    count1 = len(dfx[dfx['dig1']==bi])\n",
    "    counts1.append(count1)\n",
    "    count2 = len(dfx[dfx['dig2']==bi])\n",
    "    counts2.append(count2)\n",
    "    print('Leading digit: \"' + str(bi) + '\" has ' + str(count1) + ' instances ... (and ' + str(count2) + ' as 2nd digit)')"
   ]
  },
  {
   "cell_type": "code",
   "execution_count": 21,
   "metadata": {},
   "outputs": [
    {
     "data": {
      "image/png": "[encoded data removed]",
      "text/plain": [
       "<Figure size 936x504 with 1 Axes>"
      ]
     },
     "metadata": {},
     "output_type": "display_data"
    }
   ],
   "source": [
    "f = plt.figure(figsize=(13,7), facecolor='w')\n",
    "tr_nan = plt.hist(dfx['dig1'], bins = bins)\n",
    "plt.xlabel('first digit')\n",
    "plt.ylabel('count')\n",
    "plt.title('distribution of 1st digit of bitcoin prices in USD')\n",
    "plt.grid('on')\n",
    "plt.xlim((1,10));\n",
    "\n",
    "for x in range(len(digs)):\n",
    "    plt.text(digs[x]+0.25, counts1[x]*1.01, str(counts1[x]))"
   ]
  },
  {
   "cell_type": "markdown",
   "metadata": {},
   "source": [
    "The above plot shows us that, for example, there were nearly 1600000 instances that the price started with a '1', and only about 650000 instances where the price started with a '7'"
   ]
  },
  {
   "cell_type": "code",
   "execution_count": 22,
   "metadata": {
    "scrolled": false
   },
   "outputs": [
    {
     "data": {
      "image/png": "[encoded data removed]",
      "text/plain": [
       "<Figure size 936x504 with 1 Axes>"
      ]
     },
     "metadata": {},
     "output_type": "display_data"
    }
   ],
   "source": [
    "f = plt.figure(figsize=(13,7), facecolor='w')\n",
    "bins = range(1,11)\n",
    "tr_nan = plt.hist(dfx['dig2'], bins = bins)\n",
    "plt.xlabel('second digit')\n",
    "plt.ylabel('count')\n",
    "plt.title('distribution of the second digit of bitcoin prices in USD');\n",
    "plt.grid('on')\n",
    "plt.xlim((1,10));\n",
    "\n",
    "for x in range(len(digs)):\n",
    "    plt.text(digs[x]+0.25, counts2[x]*1.01, str(counts2[x]))\n",
    "    "
   ]
  },
  {
   "cell_type": "markdown",
   "metadata": {},
   "source": [
    "Let's look at some less significant digits to see if this is meaningful or not"
   ]
  },
  {
   "cell_type": "code",
   "execution_count": 23,
   "metadata": {},
   "outputs": [
    {
     "data": {
      "image/png": "[encoded data removed]",
      "text/plain": [
       "<Figure size 936x504 with 1 Axes>"
      ]
     },
     "metadata": {},
     "output_type": "display_data"
    }
   ],
   "source": [
    "f = plt.figure(figsize=(13,7), facecolor='w')\n",
    "bins = range(1,11)\n",
    "tr_nan = plt.hist(dfx['dig3'], bins = bins)\n",
    "plt.xlabel('third digit')\n",
    "plt.ylabel('count')\n",
    "plt.title('distribution of the third digit of bitcoin prices in USD');\n",
    "plt.grid('on')\n",
    "plt.xlim((1,10));"
   ]
  },
  {
   "cell_type": "code",
   "execution_count": 24,
   "metadata": {},
   "outputs": [
    {
     "data": {
      "image/png": "[encoded data removed]",
      "text/plain": [
       "<Figure size 936x504 with 1 Axes>"
      ]
     },
     "metadata": {},
     "output_type": "display_data"
    }
   ],
   "source": [
    "f = plt.figure(figsize=(13,7), facecolor='w')\n",
    "bins = range(1,11)\n",
    "tr_nan = plt.hist(dfx['dig4'], bins = bins)\n",
    "plt.xlabel('fourth digit')\n",
    "plt.ylabel('count')\n",
    "plt.title('distribution of the fourth digit of bitcoin prices in USD');\n",
    "plt.grid('on')\n",
    "plt.xlim((1,10));"
   ]
  },
  {
   "cell_type": "code",
   "execution_count": 25,
   "metadata": {},
   "outputs": [
    {
     "data": {
      "image/png": "[encoded data removed]",
      "text/plain": [
       "<Figure size 936x504 with 1 Axes>"
      ]
     },
     "metadata": {},
     "output_type": "display_data"
    }
   ],
   "source": [
    "f = plt.figure(figsize=(13,7), facecolor='w')\n",
    "bins = range(1,11)\n",
    "tr_nan = plt.hist(dfx['dig5'], bins = bins)\n",
    "plt.xlabel('fifth digit')\n",
    "plt.ylabel('count')\n",
    "plt.title('distribution of the fifth digit of bitcoin prices in USD');\n",
    "plt.grid('on')\n",
    "plt.xlim((1,10));"
   ]
  },
  {
   "cell_type": "code",
   "execution_count": 26,
   "metadata": {},
   "outputs": [
    {
     "data": {
      "image/png": "[encoded data removed]",
      "text/plain": [
       "<Figure size 936x504 with 1 Axes>"
      ]
     },
     "metadata": {},
     "output_type": "display_data"
    }
   ],
   "source": [
    "f = plt.figure(figsize=(13,7), facecolor='w')\n",
    "bins = range(1,11)\n",
    "tr_nan = plt.hist(dfx['dig6'], bins = bins)\n",
    "plt.xlabel('sixth digit')\n",
    "plt.ylabel('count')\n",
    "plt.title('distribution of the sxith digit of bitcoin prices in USD');\n",
    "plt.grid('on')\n",
    "plt.xlim((1,10));"
   ]
  },
  {
   "cell_type": "markdown",
   "metadata": {},
   "source": [
    "What if we look at the first two digits?"
   ]
  },
  {
   "cell_type": "code",
   "execution_count": 27,
   "metadata": {},
   "outputs": [
    {
     "data": {
      "image/png": "[encoded data removed]",
      "text/plain": [
       "<Figure size 936x504 with 1 Axes>"
      ]
     },
     "metadata": {},
     "output_type": "display_data"
    }
   ],
   "source": [
    "f = plt.figure(figsize=(13,7), facecolor='w')\n",
    "bins = range(1,100)\n",
    "tr_nan = plt.hist(dfx['dig12'], bins = bins)\n",
    "plt.xlabel('first two digits of price')\n",
    "plt.ylabel('count')\n",
    "plt.title('distribution of first two digits of bitcoin prices in USD')\n",
    "plt.xlim(10,99);"
   ]
  },
  {
   "cell_type": "markdown",
   "metadata": {},
   "source": [
    "The above plot shows that the price has a propensity to hover between starting with '10...' and '15...'"
   ]
  },
  {
   "cell_type": "markdown",
   "metadata": {},
   "source": [
    "## Time dependence"
   ]
  },
  {
   "cell_type": "markdown",
   "metadata": {},
   "source": [
    "Do these trends change?"
   ]
  },
  {
   "cell_type": "code",
   "execution_count": 28,
   "metadata": {},
   "outputs": [],
   "source": [
    "complete_years = range(2012,2020+1)"
   ]
  },
  {
   "cell_type": "code",
   "execution_count": 29,
   "metadata": {},
   "outputs": [
    {
     "data": {
      "text/html": [
       "<div>\n",
       "<style scoped>\n",
       "    .dataframe tbody tr th:only-of-type {\n",
       "        vertical-align: middle;\n",
       "    }\n",
       "\n",
       "    .dataframe tbody tr th {\n",
       "        vertical-align: top;\n",
       "    }\n",
       "\n",
       "    .dataframe thead th {\n",
       "        text-align: right;\n",
       "    }\n",
       "</style>\n",
       "<table border=\"1\" class=\"dataframe\">\n",
       "  <thead>\n",
       "    <tr style=\"text-align: right;\">\n",
       "      <th></th>\n",
       "      <th>inds</th>\n",
       "      <th>times</th>\n",
       "      <th>htimes</th>\n",
       "      <th>prices</th>\n",
       "      <th>dig1</th>\n",
       "      <th>dig2</th>\n",
       "      <th>dig12</th>\n",
       "      <th>dig3</th>\n",
       "      <th>dig4</th>\n",
       "      <th>dig5</th>\n",
       "      <th>dig6</th>\n",
       "    </tr>\n",
       "  </thead>\n",
       "  <tbody>\n",
       "    <tr>\n",
       "      <th>1789994</th>\n",
       "      <td>1841395</td>\n",
       "      <td>1609372560</td>\n",
       "      <td>2020-12-30 16:56:00</td>\n",
       "      <td>28806.429798</td>\n",
       "      <td>2</td>\n",
       "      <td>8</td>\n",
       "      <td>28</td>\n",
       "      <td>8</td>\n",
       "      <td>0</td>\n",
       "      <td>6</td>\n",
       "      <td>4</td>\n",
       "    </tr>\n",
       "    <tr>\n",
       "      <th>1789995</th>\n",
       "      <td>1841396</td>\n",
       "      <td>1609372620</td>\n",
       "      <td>2020-12-30 16:57:00</td>\n",
       "      <td>28846.441863</td>\n",
       "      <td>2</td>\n",
       "      <td>8</td>\n",
       "      <td>28</td>\n",
       "      <td>8</td>\n",
       "      <td>4</td>\n",
       "      <td>6</td>\n",
       "      <td>4</td>\n",
       "    </tr>\n",
       "    <tr>\n",
       "      <th>1789996</th>\n",
       "      <td>1841397</td>\n",
       "      <td>1609372680</td>\n",
       "      <td>2020-12-30 16:58:00</td>\n",
       "      <td>28879.056266</td>\n",
       "      <td>2</td>\n",
       "      <td>8</td>\n",
       "      <td>28</td>\n",
       "      <td>8</td>\n",
       "      <td>7</td>\n",
       "      <td>9</td>\n",
       "      <td>0</td>\n",
       "    </tr>\n",
       "    <tr>\n",
       "      <th>1789997</th>\n",
       "      <td>1841398</td>\n",
       "      <td>1609372740</td>\n",
       "      <td>2020-12-30 16:59:00</td>\n",
       "      <td>28893.695831</td>\n",
       "      <td>2</td>\n",
       "      <td>8</td>\n",
       "      <td>28</td>\n",
       "      <td>8</td>\n",
       "      <td>9</td>\n",
       "      <td>3</td>\n",
       "      <td>6</td>\n",
       "    </tr>\n",
       "    <tr>\n",
       "      <th>1789998</th>\n",
       "      <td>1841399</td>\n",
       "      <td>1609372800</td>\n",
       "      <td>2020-12-30 17:00:00</td>\n",
       "      <td>28909.166061</td>\n",
       "      <td>2</td>\n",
       "      <td>8</td>\n",
       "      <td>28</td>\n",
       "      <td>9</td>\n",
       "      <td>0</td>\n",
       "      <td>9</td>\n",
       "      <td>1</td>\n",
       "    </tr>\n",
       "  </tbody>\n",
       "</table>\n",
       "</div>"
      ],
      "text/plain": [
       "            inds       times              htimes        prices  dig1  dig2  \\\n",
       "1789994  1841395  1609372560 2020-12-30 16:56:00  28806.429798     2     8   \n",
       "1789995  1841396  1609372620 2020-12-30 16:57:00  28846.441863     2     8   \n",
       "1789996  1841397  1609372680 2020-12-30 16:58:00  28879.056266     2     8   \n",
       "1789997  1841398  1609372740 2020-12-30 16:59:00  28893.695831     2     8   \n",
       "1789998  1841399  1609372800 2020-12-30 17:00:00  28909.166061     2     8   \n",
       "\n",
       "         dig12  dig3  dig4  dig5  dig6  \n",
       "1789994     28     8     0     6     4  \n",
       "1789995     28     8     4     6     4  \n",
       "1789996     28     8     7     9     0  \n",
       "1789997     28     8     9     3     6  \n",
       "1789998     28     9     0     9     1  "
      ]
     },
     "execution_count": 29,
     "metadata": {},
     "output_type": "execute_result"
    }
   ],
   "source": [
    "dfx.tail()"
   ]
  },
  {
   "cell_type": "code",
   "execution_count": 30,
   "metadata": {},
   "outputs": [],
   "source": [
    "for yi in range(len(complete_years)):\n",
    "    pass"
   ]
  },
  {
   "cell_type": "markdown",
   "metadata": {},
   "source": [
    "## Model and backtest"
   ]
  },
  {
   "cell_type": "code",
   "execution_count": 31,
   "metadata": {},
   "outputs": [
    {
     "name": "stdout",
     "output_type": "stream",
     "text": [
      "[2018-02-05 14:30:00] Converted USD to BTC at 7288.280582800001 // total bal in BTC: 0.14628186461996895\n",
      "[2018-03-19 11:33:00] Converted BTC to USD at 8339.11873 // total bal in BTC: 0.11923525185133607\n",
      "[2018-04-02 10:47:00] Converted USD to BTC at 7008.4221565 // total bal in BTC: 0.10849313324738158\n",
      "[2018-08-06 04:12:00] Converted USD to BTC at 6968.8333171 // total bal in BTC: 0.10604035157857133\n",
      "[2019-01-12 20:41:00] Converted BTC to USD at 3619.01 // total bal in BTC: 0.14959744282616363\n",
      "[2019-05-11 22:42:00] Converted USD to BTC at 7208.6497536 // total bal in BTC: 0.12791648025560526\n",
      "[2020-03-22 16:38:00] Converted BTC to USD at 5949.9029874 // total bal in BTC: 0.22637319289215194\n",
      "[2020-08-05 07:08:00] Converted USD to BTC at 11588.524814 // total bal in BTC: 0.17459676417901604\n"
     ]
    }
   ],
   "source": [
    "digit = 4\n",
    "btcbal = 1\n",
    "btcbalvec = list()\n",
    "btctimes = list()\n",
    "usdbal = 0\n",
    "usdbalvec = list()\n",
    "usdtimes = list()\n",
    "q_verbose = 10000\n",
    "buysignal = 8\n",
    "sellsignal = 9\n",
    "\n",
    "this_df = dfx[dfx['times']> good_data_starts].reset_index()\n",
    "\n",
    "for ti in range(len(this_df)):\n",
    "    this_price = this_df['prices'][ti]\n",
    "    this_time = this_df['times'][ti]\n",
    "    this_htime = this_df['htimes'][ti]\n",
    "    \n",
    "    if dfx['dig' + str(digit)][ti] == buysignal:\n",
    "        # Buy BTC with USD\n",
    "        if usdbal > 0:\n",
    "            btcbal = usdbal/this_price\n",
    "            usdbal = 0\n",
    "            \n",
    "            btctimes.append(this_time)\n",
    "            btcbalvec.append(btcbal)\n",
    "            \n",
    "            if (q_verbose > 0) and (ti % q_verbose == 0):\n",
    "                print('['+str(this_htime)+'] Converted USD to BTC at ' + str(this_price) + ' // total bal in BTC: ' + str(btcbal))\n",
    "                \n",
    "                \n",
    "    elif dfx['dig' + str(digit)][ti] == sellsignal:\n",
    "        # Sell BTC for USD\n",
    "        if btcbal > 0:\n",
    "            cachebal = btcbal\n",
    "            usdbal = btcbal*this_price\n",
    "            btcbal = 0\n",
    "            \n",
    "            usdtimes.append(this_time)\n",
    "            usdbalvec.append(usdbal)\n",
    "            \n",
    "            if (q_verbose > 0) and (ti % q_verbose == 0):\n",
    "                print('['+str(this_htime)+'] Converted BTC to USD at ' + str(this_price) + ' // total bal in BTC: ' + str(cachebal))"
   ]
  },
  {
   "cell_type": "code",
   "execution_count": 32,
   "metadata": {},
   "outputs": [
    {
     "data": {
      "text/plain": [
       "Text(0.5, 1.0, 'Balance in BTC over time')"
      ]
     },
     "execution_count": 32,
     "metadata": {},
     "output_type": "execute_result"
    },
    {
     "data": {
      "image/png": "[encoded data removed]",
      "text/plain": [
       "<Figure size 720x360 with 1 Axes>"
      ]
     },
     "metadata": {},
     "output_type": "display_data"
    }
   ],
   "source": [
    "f = plt.figure(figsize=(10,5), facecolor='w')\n",
    "plt.scatter(btctimes, btcbalvec)\n",
    "plt.title('Balance in BTC over time')"
   ]
  },
  {
   "cell_type": "code",
   "execution_count": 33,
   "metadata": {},
   "outputs": [
    {
     "data": {
      "text/plain": [
       "Text(0.5, 1.0, 'Balance in USD over time')"
      ]
     },
     "execution_count": 33,
     "metadata": {},
     "output_type": "execute_result"
    },
    {
     "data": {
      "image/png": "[encoded data removed]",
      "text/plain": [
       "<Figure size 720x360 with 1 Axes>"
      ]
     },
     "metadata": {},
     "output_type": "display_data"
    }
   ],
   "source": [
    "f = plt.figure(figsize=(10,5), facecolor='w')\n",
    "plt.scatter(usdtimes, usdbalvec)\n",
    "plt.title('Balance in USD over time')"
   ]
  },
  {
   "cell_type": "markdown",
   "metadata": {},
   "source": [
    "5th digit"
   ]
  },
  {
   "cell_type": "code",
   "execution_count": 34,
   "metadata": {},
   "outputs": [
    {
     "name": "stdout",
     "output_type": "stream",
     "text": [
      "[2017-07-22 21:44:00] Converted BTC to USD at 2824.9319418 // total bal in BTC: 1.0315360223754713\n",
      "[2017-07-30 04:45:00] Converted BTC to USD at 2637.9898695 // total bal in BTC: 0.9915102000110592\n",
      "[2017-11-07 00:25:00] Converted USD to BTC at 7179.88 // total bal in BTC: 0.6715411508425563\n",
      "[2017-12-18 21:36:00] Converted USD to BTC at 18928.192878 // total bal in BTC: 0.3688057144965856\n",
      "[2018-03-12 11:36:00] Converted BTC to USD at 9127.999149 // total bal in BTC: 0.6831260453903888\n",
      "[2018-06-04 02:27:00] Converted BTC to USD at 7591.988143800001 // total bal in BTC: 0.7022996036686779\n",
      "[2018-06-11 02:39:00] Converted USD to BTC at 6810.8097433 // total bal in BTC: 0.7342315153973714\n",
      "[2018-06-25 03:12:00] Converted BTC to USD at 6153.9239665 // total bal in BTC: 0.7962264274417357\n",
      "[2018-08-06 04:12:00] Converted USD to BTC at 6968.8333171 // total bal in BTC: 0.7268669472167937\n",
      "[2018-11-14 22:07:00] Converted USD to BTC at 5551.8491262 // total bal in BTC: 0.9061635878310906\n",
      "[2018-12-28 11:01:00] Converted BTC to USD at 3864.9307165 // total bal in BTC: 0.7379076601302783\n",
      "[2019-03-07 09:53:00] Converted USD to BTC at 3871.8277276999993 // total bal in BTC: 0.7631724270781098\n",
      "[2019-07-13 14:18:00] Converted BTC to USD at 11159.7412 // total bal in BTC: 0.4073307792830825\n",
      "[2019-08-10 15:56:00] Converted USD to BTC at 11288.999472 // total bal in BTC: 0.3873197380024433\n",
      "[2019-08-31 22:04:00] Converted USD to BTC at 9634.8268184 // total bal in BTC: 0.437383049052894\n",
      "[2019-11-24 17:27:00] Converted USD to BTC at 6846.8094058 // total bal in BTC: 0.5519172358213167\n",
      "[2020-04-12 23:41:00] Converted BTC to USD at 6704.9713007 // total bal in BTC: 0.4180222429926775\n",
      "[2020-05-04 15:22:00] Converted BTC to USD at 8922.956254 // total bal in BTC: 0.3343699903154147\n",
      "[2020-06-01 18:15:00] Converted BTC to USD at 10189.591328 // total bal in BTC: 0.297276916753647\n",
      "[2020-06-16 01:22:00] Converted USD to BTC at 9489.861487299999 // total bal in BTC: 0.2829869219323622\n",
      "[2020-07-29 07:40:00] Converted USD to BTC at 11098.93172 // total bal in BTC: 0.2589368050346949\n",
      "[2020-12-09 20:49:00] Converted BTC to USD at 18469.851312 // total bal in BTC: 0.23581912418242357\n",
      "[2020-12-16 19:35:00] Converted USD to BTC at 21818.741317 // total bal in BTC: 0.20862367887400218\n"
     ]
    }
   ],
   "source": [
    "digit = 5\n",
    "btcbal = 1\n",
    "btcbalvec = list()\n",
    "btctimes = list()\n",
    "usdbal = 0\n",
    "usdbalvec = list()\n",
    "usdtimes = list()\n",
    "q_verbose = 10000\n",
    "buysignal = 8\n",
    "sellsignal = 9\n",
    "\n",
    "this_df = dfx[dfx['times']> good_data_starts].reset_index()\n",
    "\n",
    "for ti in range(len(this_df)):\n",
    "    this_price = this_df['prices'][ti]\n",
    "    this_time = this_df['times'][ti]\n",
    "    this_htime = this_df['htimes'][ti]\n",
    "    \n",
    "    if dfx['dig' + str(digit)][ti] == buysignal:\n",
    "        # Buy BTC with USD\n",
    "        if usdbal > 0:\n",
    "            btcbal = usdbal/this_price\n",
    "            usdbal = 0\n",
    "            \n",
    "            btctimes.append(this_time)\n",
    "            btcbalvec.append(btcbal)\n",
    "            \n",
    "            if (q_verbose > 0) and (ti % q_verbose == 0):\n",
    "                print('['+str(this_htime)+'] Converted USD to BTC at ' + str(this_price) + ' // total bal in BTC: ' + str(btcbal))\n",
    "                \n",
    "                \n",
    "    elif dfx['dig' + str(digit)][ti] == sellsignal:\n",
    "        # Sell BTC for USD\n",
    "        if btcbal > 0:\n",
    "            cachebal = btcbal\n",
    "            usdbal = btcbal*this_price\n",
    "            btcbal = 0\n",
    "            \n",
    "            usdtimes.append(this_time)\n",
    "            usdbalvec.append(usdbal)\n",
    "            \n",
    "            if (q_verbose > 0) and (ti % q_verbose == 0):\n",
    "                print('['+str(this_htime)+'] Converted BTC to USD at ' + str(this_price) + ' // total bal in BTC: ' + str(cachebal))"
   ]
  },
  {
   "cell_type": "code",
   "execution_count": 35,
   "metadata": {},
   "outputs": [
    {
     "data": {
      "text/plain": [
       "Text(0.5, 1.0, 'Balance in BTC over time')"
      ]
     },
     "execution_count": 35,
     "metadata": {},
     "output_type": "execute_result"
    },
    {
     "data": {
      "image/png": "[encoded data removed]",
      "text/plain": [
       "<Figure size 720x360 with 1 Axes>"
      ]
     },
     "metadata": {},
     "output_type": "display_data"
    }
   ],
   "source": [
    "f = plt.figure(figsize=(10,5), facecolor='w')\n",
    "plt.scatter(btctimes, btcbalvec)\n",
    "plt.title('Balance in BTC over time')"
   ]
  },
  {
   "cell_type": "markdown",
   "metadata": {},
   "source": [
    "6th digit"
   ]
  },
  {
   "cell_type": "code",
   "execution_count": 36,
   "metadata": {},
   "outputs": [
    {
     "name": "stdout",
     "output_type": "stream",
     "text": [
      "[2017-07-15 18:29:00] Converted BTC to USD at 1971.1961393 // total bal in BTC: 1.1055921617257372\n",
      "[2017-07-30 04:45:00] Converted USD to BTC at 2637.9898695 // total bal in BTC: 1.0345483979653662\n",
      "[2017-10-16 20:55:00] Converted BTC to USD at 5641.29 // total bal in BTC: 0.6851910083509428\n",
      "[2017-12-25 20:30:00] Converted BTC to USD at 14002.978772 // total bal in BTC: 0.4616160835716586\n",
      "[2018-01-01 19:30:00] Converted USD to BTC at 13470.892740000001 // total bal in BTC: 0.4704516930845169\n",
      "[2018-01-15 17:11:00] Converted BTC to USD at 13450.961630000002 // total bal in BTC: 0.5338510096550017\n",
      "[2018-01-22 15:59:00] Converted BTC to USD at 10698.962105 // total bal in BTC: 0.48237228932433684\n",
      "[2018-03-12 11:36:00] Converted BTC to USD at 9127.999149 // total bal in BTC: 0.4089091176403871\n",
      "[2018-07-30 04:33:00] Converted BTC to USD at 8146.1971198 // total bal in BTC: 0.4277660037635854\n",
      "[2019-01-20 14:53:00] Converted BTC to USD at 3539.7985744000002 // total bal in BTC: 0.7035888330674841\n",
      "[2019-05-18 21:36:00] Converted USD to BTC at 7896.7875588 // total bal in BTC: 0.4824955338000153\n",
      "[2019-08-10 15:56:00] Converted BTC to USD at 11288.999472 // total bal in BTC: 0.4715202527807648\n",
      "[2019-12-01 17:12:00] Converted USD to BTC at 7405.784875 // total bal in BTC: 0.5659038569251785\n",
      "[2020-01-05 23:34:00] Converted BTC to USD at 7511.993565000001 // total bal in BTC: 0.5960903605090003\n",
      "[2020-05-25 17:00:00] Converted BTC to USD at 8911.497430399999 // total bal in BTC: 0.7674286900053554\n",
      "[2020-07-29 07:40:00] Converted BTC to USD at 11098.93172 // total bal in BTC: 0.7628642001939868\n",
      "[2020-09-30 14:09:00] Converted USD to BTC at 10721.8925 // total bal in BTC: 0.6242869416333865\n"
     ]
    }
   ],
   "source": [
    "digit = 6\n",
    "btcbal = 1\n",
    "btcbalvec = list()\n",
    "btctimes = list()\n",
    "usdbal = 0\n",
    "usdbalvec = list()\n",
    "usdtimes = list()\n",
    "q_verbose = 10000\n",
    "buysignal = 8\n",
    "sellsignal = 9\n",
    "\n",
    "this_df = dfx[dfx['times']> good_data_starts].reset_index()\n",
    "\n",
    "for ti in range(len(this_df)):\n",
    "    this_price = this_df['prices'][ti]\n",
    "    this_time = this_df['times'][ti]\n",
    "    this_htime = this_df['htimes'][ti]\n",
    "    \n",
    "    if dfx['dig' + str(digit)][ti] == buysignal:\n",
    "        # Buy BTC with USD\n",
    "        if usdbal > 0:\n",
    "            btcbal = usdbal/this_price\n",
    "            usdbal = 0\n",
    "            \n",
    "            btctimes.append(this_time)\n",
    "            btcbalvec.append(btcbal)\n",
    "            \n",
    "            if (q_verbose > 0) and (ti % q_verbose == 0):\n",
    "                print('['+str(this_htime)+'] Converted USD to BTC at ' + str(this_price) + ' // total bal in BTC: ' + str(btcbal))\n",
    "                \n",
    "                \n",
    "    elif dfx['dig' + str(digit)][ti] == sellsignal:\n",
    "        # Sell BTC for USD\n",
    "        if btcbal > 0:\n",
    "            cachebal = btcbal\n",
    "            usdbal = btcbal*this_price\n",
    "            btcbal = 0\n",
    "            \n",
    "            usdtimes.append(this_time)\n",
    "            usdbalvec.append(usdbal)\n",
    "            \n",
    "            if (q_verbose > 0) and (ti % q_verbose == 0):\n",
    "                print('['+str(this_htime)+'] Converted BTC to USD at ' + str(this_price) + ' // total bal in BTC: ' + str(cachebal))"
   ]
  },
  {
   "cell_type": "code",
   "execution_count": 37,
   "metadata": {},
   "outputs": [
    {
     "data": {
      "text/plain": [
       "Text(0.5, 1.0, 'Balance in BTC over time')"
      ]
     },
     "execution_count": 37,
     "metadata": {},
     "output_type": "execute_result"
    },
    {
     "data": {
      "image/png": "[encoded data removed]",
      "text/plain": [
       "<Figure size 720x360 with 1 Axes>"
      ]
     },
     "metadata": {},
     "output_type": "display_data"
    }
   ],
   "source": [
    "f = plt.figure(figsize=(10,5), facecolor='w')\n",
    "plt.scatter(btctimes, btcbalvec)\n",
    "plt.title('Balance in BTC over time')"
   ]
  }
 ],
 "metadata": {
  "kernelspec": {
   "display_name": "Python 3",
   "language": "python",
   "name": "python3"
  },
  "language_info": {
   "codemirror_mode": {
    "name": "ipython",
    "version": 3
   },
   "file_extension": ".py",
   "mimetype": "text/x-python",
   "name": "python",
   "nbconvert_exporter": "python",
   "pygments_lexer": "ipython3",
   "version": "3.7.6"
  }
 },
 "nbformat": 4,
 "nbformat_minor": 4
}
