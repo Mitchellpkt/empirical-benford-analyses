{
 "cells": [
  {
   "cell_type": "markdown",
   "metadata": {},
   "source": [
    "## Import libraries"
   ]
  },
  {
   "cell_type": "code",
   "execution_count": 1,
   "metadata": {},
   "outputs": [],
   "source": [
    "import numpy as np\n",
    "import pandas as pd\n",
    "import matplotlib.pyplot as plt\n",
    "import os as os\n",
    "import datetime as datetime\n",
    "import math as math"
   ]
  },
  {
   "cell_type": "markdown",
   "metadata": {},
   "source": [
    "## Import data"
   ]
  },
  {
   "cell_type": "code",
   "execution_count": 2,
   "metadata": {},
   "outputs": [],
   "source": [
    "df = pd.read_csv(os.path.join('data','bitstampUSD_data.csv'), usecols=('Timestamp', 'Weighted_Price'))"
   ]
  },
  {
   "cell_type": "code",
   "execution_count": 3,
   "metadata": {},
   "outputs": [
    {
     "data": {
      "text/html": [
       "<div>\n",
       "<style scoped>\n",
       "    .dataframe tbody tr th:only-of-type {\n",
       "        vertical-align: middle;\n",
       "    }\n",
       "\n",
       "    .dataframe tbody tr th {\n",
       "        vertical-align: top;\n",
       "    }\n",
       "\n",
       "    .dataframe thead th {\n",
       "        text-align: right;\n",
       "    }\n",
       "</style>\n",
       "<table border=\"1\" class=\"dataframe\">\n",
       "  <thead>\n",
       "    <tr style=\"text-align: right;\">\n",
       "      <th></th>\n",
       "      <th>Timestamp</th>\n",
       "      <th>Weighted_Price</th>\n",
       "    </tr>\n",
       "  </thead>\n",
       "  <tbody>\n",
       "    <tr>\n",
       "      <th>0</th>\n",
       "      <td>1325317920</td>\n",
       "      <td>4.39</td>\n",
       "    </tr>\n",
       "    <tr>\n",
       "      <th>1</th>\n",
       "      <td>1325317980</td>\n",
       "      <td>NaN</td>\n",
       "    </tr>\n",
       "    <tr>\n",
       "      <th>2</th>\n",
       "      <td>1325318040</td>\n",
       "      <td>NaN</td>\n",
       "    </tr>\n",
       "    <tr>\n",
       "      <th>3</th>\n",
       "      <td>1325318100</td>\n",
       "      <td>NaN</td>\n",
       "    </tr>\n",
       "    <tr>\n",
       "      <th>4</th>\n",
       "      <td>1325318160</td>\n",
       "      <td>NaN</td>\n",
       "    </tr>\n",
       "  </tbody>\n",
       "</table>\n",
       "</div>"
      ],
      "text/plain": [
       "    Timestamp  Weighted_Price\n",
       "0  1325317920            4.39\n",
       "1  1325317980             NaN\n",
       "2  1325318040             NaN\n",
       "3  1325318100             NaN\n",
       "4  1325318160             NaN"
      ]
     },
     "execution_count": 3,
     "metadata": {},
     "output_type": "execute_result"
    }
   ],
   "source": [
    "df.head()"
   ]
  },
  {
   "cell_type": "markdown",
   "metadata": {},
   "source": [
    "## Data wrangling"
   ]
  },
  {
   "cell_type": "code",
   "execution_count": 4,
   "metadata": {},
   "outputs": [
    {
     "name": "stdout",
     "output_type": "stream",
     "text": [
      "sample # 0 of 10000000\n",
      "sample # 400000 of 10000000\n",
      "sample # 800000 of 10000000\n",
      "sample # 1200000 of 10000000\n",
      "sample # 1600000 of 10000000\n",
      "sample # 2000000 of 10000000\n",
      "sample # 2400000 of 10000000\n",
      "sample # 2800000 of 10000000\n",
      "sample # 3200000 of 10000000\n",
      "sample # 3600000 of 10000000\n",
      "sample # 4000000 of 10000000\n",
      "sample # 4400000 of 10000000\n",
      "sample # 4800000 of 10000000\n",
      "sample # 5200000 of 10000000\n",
      "sample # 5600000 of 10000000\n",
      "sample # 6000000 of 10000000\n",
      "sample # 6400000 of 10000000\n",
      "sample # 6800000 of 10000000\n",
      "sample # 7200000 of 10000000\n",
      "sample # 7600000 of 10000000\n",
      "sample # 8000000 of 10000000\n",
      "sample # 8400000 of 10000000\n",
      "sample # 8800000 of 10000000\n",
      "sample # 9200000 of 10000000\n",
      "sample # 9600000 of 10000000\n"
     ]
    }
   ],
   "source": [
    "num_of_samples = 10000000\n",
    "q_verbose = num_of_samples/25\n",
    "\n",
    "# init\n",
    "naninds = list()\n",
    "nantimes = list()\n",
    "nanhtimes = list()\n",
    "nonnaninds = list()\n",
    "nonnantimes = list()\n",
    "nonnanhtimes = list()\n",
    "nonnanprices = list()\n",
    "dig1 = list()\n",
    "dig12 = list()\n",
    "dig2 = list()\n",
    "\n",
    "subsample = np.linspace(1, len(df), num_of_samples)\n",
    "numsample = len(subsample)\n",
    "\n",
    "for x in range(numsample):\n",
    "    i = int(math.floor(subsample[x])-1)\n",
    "    \n",
    "    if q_verbose > 0:\n",
    "        if x % q_verbose == 0:\n",
    "            print('sample # ' + str(x) + ' of ' + str(numsample))\n",
    "            \n",
    "    this_Timestamp = df['Timestamp'][i]\n",
    "    this_hTimestamp = datetime.datetime.fromtimestamp(this_Timestamp)\n",
    "    this_price = df['Weighted_Price'][i]\n",
    "    is_nan = np.isnan(this_price)\n",
    "    \n",
    "    if is_nan:\n",
    "        naninds.append(i)\n",
    "        nantimes.append(this_Timestamp)\n",
    "        nanhtimes.append(this_hTimestamp)\n",
    "    else:\n",
    "        nonnaninds.append(i)\n",
    "        nonnantimes.append(this_Timestamp)\n",
    "        nonnanhtimes.append(this_hTimestamp)        \n",
    "        dig1.append(int(str(this_price*100)[0:1]))\n",
    "        dig12.append(int(str(this_price*100)[0:2]))\n",
    "        dig2.append(int(str(this_price*100)[1:2]))\n",
    "        nonnanprices.append(this_price)\n",
    "\n",
    "\n",
    "dfnan = pd.DataFrame()\n",
    "dfnan['inds'] = naninds\n",
    "dfnan['times'] = nantimes\n",
    "dfnan['htimes'] = nanhtimes\n",
    "\n",
    "dfx = pd.DataFrame()\n",
    "dfx['inds'] = nonnaninds\n",
    "dfx['times'] = nonnantimes\n",
    "dfx['htimes'] = nonnanhtimes\n",
    "dfx['prices'] = nonnanprices\n",
    "dfx['dig1'] = dig1\n",
    "dfx['dig2'] = dig2\n",
    "dfx['dig12'] = dig12"
   ]
  },
  {
   "cell_type": "code",
   "execution_count": 12,
   "metadata": {},
   "outputs": [
    {
     "name": "stdout",
     "output_type": "stream",
     "text": [
      "2630011\n"
     ]
    },
    {
     "data": {
      "text/html": [
       "<div>\n",
       "<style scoped>\n",
       "    .dataframe tbody tr th:only-of-type {\n",
       "        vertical-align: middle;\n",
       "    }\n",
       "\n",
       "    .dataframe tbody tr th {\n",
       "        vertical-align: top;\n",
       "    }\n",
       "\n",
       "    .dataframe thead th {\n",
       "        text-align: right;\n",
       "    }\n",
       "</style>\n",
       "<table border=\"1\" class=\"dataframe\">\n",
       "  <thead>\n",
       "    <tr style=\"text-align: right;\">\n",
       "      <th></th>\n",
       "      <th>inds</th>\n",
       "      <th>times</th>\n",
       "      <th>htimes</th>\n",
       "    </tr>\n",
       "  </thead>\n",
       "  <tbody>\n",
       "    <tr>\n",
       "      <th>0</th>\n",
       "      <td>1</td>\n",
       "      <td>1325317980</td>\n",
       "      <td>2011-12-31 00:53:00</td>\n",
       "    </tr>\n",
       "    <tr>\n",
       "      <th>1</th>\n",
       "      <td>1</td>\n",
       "      <td>1325317980</td>\n",
       "      <td>2011-12-31 00:53:00</td>\n",
       "    </tr>\n",
       "    <tr>\n",
       "      <th>2</th>\n",
       "      <td>2</td>\n",
       "      <td>1325318040</td>\n",
       "      <td>2011-12-31 00:54:00</td>\n",
       "    </tr>\n",
       "    <tr>\n",
       "      <th>3</th>\n",
       "      <td>2</td>\n",
       "      <td>1325318040</td>\n",
       "      <td>2011-12-31 00:54:00</td>\n",
       "    </tr>\n",
       "    <tr>\n",
       "      <th>4</th>\n",
       "      <td>3</td>\n",
       "      <td>1325318100</td>\n",
       "      <td>2011-12-31 00:55:00</td>\n",
       "    </tr>\n",
       "  </tbody>\n",
       "</table>\n",
       "</div>"
      ],
      "text/plain": [
       "   inds       times              htimes\n",
       "0     1  1325317980 2011-12-31 00:53:00\n",
       "1     1  1325317980 2011-12-31 00:53:00\n",
       "2     2  1325318040 2011-12-31 00:54:00\n",
       "3     2  1325318040 2011-12-31 00:54:00\n",
       "4     3  1325318100 2011-12-31 00:55:00"
      ]
     },
     "execution_count": 12,
     "metadata": {},
     "output_type": "execute_result"
    }
   ],
   "source": [
    "print(len(dfnan))\n",
    "dfnan.head()"
   ]
  },
  {
   "cell_type": "code",
   "execution_count": 13,
   "metadata": {},
   "outputs": [
    {
     "name": "stdout",
     "output_type": "stream",
     "text": [
      "7369989\n"
     ]
    },
    {
     "data": {
      "text/html": [
       "<div>\n",
       "<style scoped>\n",
       "    .dataframe tbody tr th:only-of-type {\n",
       "        vertical-align: middle;\n",
       "    }\n",
       "\n",
       "    .dataframe tbody tr th {\n",
       "        vertical-align: top;\n",
       "    }\n",
       "\n",
       "    .dataframe thead th {\n",
       "        text-align: right;\n",
       "    }\n",
       "</style>\n",
       "<table border=\"1\" class=\"dataframe\">\n",
       "  <thead>\n",
       "    <tr style=\"text-align: right;\">\n",
       "      <th></th>\n",
       "      <th>inds</th>\n",
       "      <th>times</th>\n",
       "      <th>htimes</th>\n",
       "      <th>prices</th>\n",
       "      <th>dig1</th>\n",
       "      <th>dig2</th>\n",
       "      <th>dig12</th>\n",
       "    </tr>\n",
       "  </thead>\n",
       "  <tbody>\n",
       "    <tr>\n",
       "      <th>0</th>\n",
       "      <td>0</td>\n",
       "      <td>1325317920</td>\n",
       "      <td>2011-12-31 00:52:00</td>\n",
       "      <td>4.39</td>\n",
       "      <td>4</td>\n",
       "      <td>3</td>\n",
       "      <td>43</td>\n",
       "    </tr>\n",
       "    <tr>\n",
       "      <th>1</th>\n",
       "      <td>0</td>\n",
       "      <td>1325317920</td>\n",
       "      <td>2011-12-31 00:52:00</td>\n",
       "      <td>4.39</td>\n",
       "      <td>4</td>\n",
       "      <td>3</td>\n",
       "      <td>43</td>\n",
       "    </tr>\n",
       "    <tr>\n",
       "      <th>2</th>\n",
       "      <td>0</td>\n",
       "      <td>1325317920</td>\n",
       "      <td>2011-12-31 00:52:00</td>\n",
       "      <td>4.39</td>\n",
       "      <td>4</td>\n",
       "      <td>3</td>\n",
       "      <td>43</td>\n",
       "    </tr>\n",
       "    <tr>\n",
       "      <th>3</th>\n",
       "      <td>478</td>\n",
       "      <td>1325346600</td>\n",
       "      <td>2011-12-31 08:50:00</td>\n",
       "      <td>4.39</td>\n",
       "      <td>4</td>\n",
       "      <td>3</td>\n",
       "      <td>43</td>\n",
       "    </tr>\n",
       "    <tr>\n",
       "      <th>4</th>\n",
       "      <td>478</td>\n",
       "      <td>1325346600</td>\n",
       "      <td>2011-12-31 08:50:00</td>\n",
       "      <td>4.39</td>\n",
       "      <td>4</td>\n",
       "      <td>3</td>\n",
       "      <td>43</td>\n",
       "    </tr>\n",
       "  </tbody>\n",
       "</table>\n",
       "</div>"
      ],
      "text/plain": [
       "   inds       times              htimes  prices  dig1  dig2  dig12\n",
       "0     0  1325317920 2011-12-31 00:52:00    4.39     4     3     43\n",
       "1     0  1325317920 2011-12-31 00:52:00    4.39     4     3     43\n",
       "2     0  1325317920 2011-12-31 00:52:00    4.39     4     3     43\n",
       "3   478  1325346600 2011-12-31 08:50:00    4.39     4     3     43\n",
       "4   478  1325346600 2011-12-31 08:50:00    4.39     4     3     43"
      ]
     },
     "execution_count": 13,
     "metadata": {},
     "output_type": "execute_result"
    }
   ],
   "source": [
    "print(len(dfx))\n",
    "dfx.head()"
   ]
  },
  {
   "cell_type": "markdown",
   "metadata": {},
   "source": [
    "## Where are the NaNs? "
   ]
  },
  {
   "cell_type": "code",
   "execution_count": 14,
   "metadata": {},
   "outputs": [
    {
     "data": {
      "image/png": "[encoded data removed]",
      "text/plain": [
       "<Figure size 936x504 with 1 Axes>"
      ]
     },
     "metadata": {},
     "output_type": "display_data"
    }
   ],
   "source": [
    "f = plt.figure(figsize=(13,7), facecolor='w')\n",
    "tr_nan = plt.hist(dfnan['htimes'], alpha=0.5)\n",
    "tr_nonnan = plt.hist(dfx['htimes'], alpha=0.5)\n",
    "plt.legend(('nan data', 'data available'));"
   ]
  },
  {
   "cell_type": "markdown",
   "metadata": {},
   "source": [
    "Unexpectedly lots of NaNs thorugh 2017. I'm going to make a (possibly unsound) assumption that the availability of data is statistically independent of the first digits (and vice versa)"
   ]
  },
  {
   "cell_type": "markdown",
   "metadata": {},
   "source": [
    "## What is the digit distribution?\n",
    "Suppose bitcoin's price was a random walk, then over multiple orders of magnitude the distribution of each digit should be uniform. In other words, the price is just as likely to be something that starts with a \"7\" as "
   ]
  },
  {
   "cell_type": "markdown",
   "metadata": {},
   "source": [
    "### Leading digit"
   ]
  },
  {
   "cell_type": "code",
   "execution_count": 15,
   "metadata": {},
   "outputs": [
    {
     "name": "stdout",
     "output_type": "stream",
     "text": [
      "Leading digit: \"1\" has 1575951 instances ... (and 993399 appearances as 2nd digit)\n",
      "Leading digit: \"2\" has 921218 instances ... (and 922777 appearances as 2nd digit)\n",
      "Leading digit: \"3\" has 797112 instances ... (and 872090 appearances as 2nd digit)\n",
      "Leading digit: \"4\" has 744554 instances ... (and 662402 appearances as 2nd digit)\n",
      "Leading digit: \"5\" has 482145 instances ... (and 675566 appearances as 2nd digit)\n",
      "Leading digit: \"6\" has 896794 instances ... (and 575298 appearances as 2nd digit)\n",
      "Leading digit: \"7\" has 650191 instances ... (and 664828 appearances as 2nd digit)\n",
      "Leading digit: \"8\" has 624733 instances ... (and 566065 appearances as 2nd digit)\n",
      "Leading digit: \"9\" has 677291 instances ... (and 506646 appearances as 2nd digit)\n"
     ]
    }
   ],
   "source": [
    "bins = range(1,11)\n",
    "\n",
    "digs = list()\n",
    "counts1 = list()\n",
    "counts2 = list()\n",
    "\n",
    "for bi in range(1,len(bins)):\n",
    "    digs.append(bi)\n",
    "    count1 = len(dfx[dfx['dig1']==bi])\n",
    "    counts1.append(count1)\n",
    "    count2 = len(dfx[dfx['dig2']==bi])\n",
    "    counts2.append(count2)\n",
    "    print('Leading digit: \"' + str(bi) + '\" has ' + str(count1) + ' instances ... (and ' + str(count2) + ' appearances as 2nd digit)')"
   ]
  },
  {
   "cell_type": "code",
   "execution_count": 17,
   "metadata": {},
   "outputs": [
    {
     "data": {
      "image/png": "[encoded data removed]",
      "text/plain": [
       "<Figure size 936x504 with 1 Axes>"
      ]
     },
     "metadata": {},
     "output_type": "display_data"
    }
   ],
   "source": [
    "f = plt.figure(figsize=(13,7), facecolor='w')\n",
    "tr_nan = plt.hist(dfx['dig1'], bins = bins)\n",
    "plt.xlabel('first digit')\n",
    "plt.ylabel('count')\n",
    "plt.title('distribution of 1st digit of bitcoin prices in USD')\n",
    "plt.grid('on')\n",
    "plt.xlim((1,10));\n",
    "\n",
    "for x in range(len(digs)):\n",
    "    plt.text(digs[x]+0.25, counts1[x]*1.01, str(counts1[x]))"
   ]
  },
  {
   "cell_type": "markdown",
   "metadata": {},
   "source": [
    "The above plot shows us that, for example, there were nearly 1600000 instances that the price started with a '1', and only about 650000 instances where the price started with a '7'"
   ]
  },
  {
   "cell_type": "code",
   "execution_count": 18,
   "metadata": {},
   "outputs": [
    {
     "data": {
      "image/png": "[encoded data removed]",
      "text/plain": [
       "<Figure size 936x504 with 1 Axes>"
      ]
     },
     "metadata": {},
     "output_type": "display_data"
    }
   ],
   "source": [
    "f = plt.figure(figsize=(13,7), facecolor='w')\n",
    "bins = range(1,100)\n",
    "tr_nan = plt.hist(dfx['dig12'], bins = bins)\n",
    "plt.xlabel('first two digits of price')\n",
    "plt.ylabel('count')\n",
    "plt.title('distribution of first two digits of bitcoin prices in USD')\n",
    "plt.xlim(10,99);"
   ]
  },
  {
   "cell_type": "markdown",
   "metadata": {},
   "source": [
    "The above plot shows that the price has a propensity to hover between starting with '10...' and '15...'. Notice that there is also some waviness towards the right... What is that? Below, let's look at the distribution of the second digit:"
   ]
  },
  {
   "cell_type": "code",
   "execution_count": 21,
   "metadata": {
    "scrolled": false
   },
   "outputs": [
    {
     "data": {
      "image/png": "[encoded data removed]",
      "text/plain": [
       "<Figure size 936x504 with 1 Axes>"
      ]
     },
     "metadata": {},
     "output_type": "display_data"
    }
   ],
   "source": [
    "f = plt.figure(figsize=(13,7), facecolor='w')\n",
    "bins = range(1,11)\n",
    "tr_nan = plt.hist(dfx['dig2'], bins = bins)\n",
    "plt.xlabel('second digit')\n",
    "plt.ylabel('count')\n",
    "plt.title('distribution of the second digit of bitcoin prices in USD');\n",
    "plt.grid('on')\n",
    "\n",
    "for x in range(len(digs)):\n",
    "    plt.text(digs[x]+0.25, counts2[x]*1.01, str(counts2[x]))\n",
    "    "
   ]
  }
 ],
 "metadata": {
  "kernelspec": {
   "display_name": "Python 3",
   "language": "python",
   "name": "python3"
  },
  "language_info": {
   "codemirror_mode": {
    "name": "ipython",
    "version": 3
   },
   "file_extension": ".py",
   "mimetype": "text/x-python",
   "name": "python",
   "nbconvert_exporter": "python",
   "pygments_lexer": "ipython3",
   "version": "3.7.6"
  }
 },
 "nbformat": 4,
 "nbformat_minor": 4
}
